{
 "cells": [
  {
   "cell_type": "code",
   "execution_count": 1,
   "metadata": {},
   "outputs": [],
   "source": [
    "import functions as dis"
   ]
  },
  {
   "cell_type": "code",
   "execution_count": 2,
   "metadata": {},
   "outputs": [],
   "source": [
    "# If you want to create a copy of the original sheet, then run prepare_excel_sheets() which will return the menu sheet\n",
    "# Since this is probably already done and in copy disney, then just run load_sheets() which will just return the menu and the new_wb\n",
    "\n",
    "menu, new_wb = dis.load_sheets(f'/Users/mokrzesik/Desktop/Michael/General/Disney/Copy_Disney_Dining.xlsx')"
   ]
  },
  {
   "cell_type": "code",
   "execution_count": 41,
   "metadata": {},
   "outputs": [],
   "source": [
    "def doItAll(menu, new_wb) -> None:\n",
    "  # creates an increase counter so that the for loop can keep track of the new rows that are added\n",
    "  increase_counter = 0\n",
    "\n",
    "  # loops through the menu sheet of columns, A, D, J as that is the only location number appear\n",
    "  for i, (cellA, cellD, cellJ) in enumerate(zip(menu['A'], menu['D'], menu['J'])):\n",
    "    # increase the iterator by the counter so we stay on the correct row\n",
    "    i += increase_counter\n",
    "    \n",
    "    # first check J vell for a value, because sometimes there will be a price in column B but more in J\n",
    "    if dis.value_check(cellJ.value):\n",
    "      # then if there is a number in J \n",
    "      result = dis.process_string(cellJ.value)\n",
    "      if isinstance(result, list):\n",
    "        # if it is a list then result will have the price of glass first and price of bottle second\n",
    "        dis.glass_bottle_row_duplicate(menu, i, cellA.value, result)\n",
    "        # increase the counter by 1 to add for the extra row\n",
    "        increase_counter += 1\n",
    "        # then continue because we have already added the price in the row_duplicate function\n",
    "        continue\n",
    "      # if it wasn't a list then it is a value and it may be one of the bad values below\n",
    "      elif result.count('-') > 1 or len(result) > 11 or result is None or len(result) == 0:\n",
    "        result = dis.user_Input(menu, i)\n",
    "      menu[f'B{i+1}'] = result\n",
    "      menu[f'L{i+1}'] = f'Mod: J'\n",
    "      # we can continue to next row as we have already added the price\n",
    "      continue\n",
    "\n",
    "    # check if there is already a price in the B column and go to next row if there is\n",
    "    if menu[f'B{i+1}'].value is not None:\n",
    "      continue\n",
    "\n",
    "    # check if the item is a market price item\n",
    "    if dis.market_price.search(cellA.value) or dis.market_price.search(cellD.value):\n",
    "      result = 'Market Price'\n",
    "      menu[f'B{i+1}'] = result\n",
    "      menu[f'L{i+1}'] = f'Mod: A/D'\n",
    "      continue\n",
    "\n",
    "    # check if there is a number in the A column\n",
    "    if dis.value_check(cellA.value):\n",
    "      # process out the number from the A column\n",
    "      result = dis.process_string(cellA.value)\n",
    "      # filter out unfavorable results\n",
    "      if result.count('-') > 1 or len(result) > 11 or result is None or len(result) == 0:\n",
    "        result = dis.user_Input(menu, i)\n",
    "      # add the results to the B column and show that it was modified by the A column\n",
    "      menu[f'B{i+1}'] = result\n",
    "      menu[f'L{i+1}'] = f'Mod: A'\n",
    "      continue\n",
    "\n",
    "    # check if there is a number in the D column\n",
    "    if dis.value_check(cellD.value):\n",
    "      # process out the number from the D column\n",
    "      result = dis.process_string(cellD.value)\n",
    "      if isinstance(result, list):\n",
    "        # if it is a list then result will have the price of glass first and price of bottle second\n",
    "        dis.draft_bottle_can_row_duplicate(menu, i, cellA.value, result)\n",
    "        # increase the counter by 1 to add for the extra row\n",
    "        increase_counter += 1\n",
    "        # then continue because we have already added the price in the row_duplicate function\n",
    "        continue\n",
    "      # filter out unfavorable results\n",
    "      elif result.count('-') > 1 or len(result) > 11 or result is None or len(result) == 0:\n",
    "        result = dis.user_Input(menu, i)\n",
    "      # add the results to the B column and show that it was modified by the D column\n",
    "      menu[f'B{i+1}'] = result\n",
    "      menu[f'L{i+1}'] = f'Mod: D'\n",
    "\n",
    "  # create a string for the title of the new menu\n",
    "  new_menu = input(f'What would you like to name the new sheet? ')\n",
    "\n",
    "  # Save the file\n",
    "  new_wb.save(new_menu + f'.xlsx')"
   ]
  },
  {
   "cell_type": "code",
   "execution_count": 11,
   "metadata": {},
   "outputs": [],
   "source": [
    "doItAll(menu, new_wb)"
   ]
  },
  {
   "cell_type": "code",
   "execution_count": 26,
   "metadata": {},
   "outputs": [
    {
     "name": "stdout",
     "output_type": "stream",
     "text": [
      "The match is: None\n"
     ]
    },
    {
     "ename": "ValueError",
     "evalue": "invalid literal for int() with base 10: '8.75-10.50-8.50-12.75'",
     "output_type": "error",
     "traceback": [
      "\u001b[0;31m---------------------------------------------------------------------------\u001b[0m",
      "\u001b[0;31mValueError\u001b[0m                                Traceback (most recent call last)",
      "Cell \u001b[0;32mIn[26], line 1\u001b[0m\n\u001b[0;32m----> 1\u001b[0m \u001b[38;5;28mprint\u001b[39m(\u001b[43mdis\u001b[49m\u001b[38;5;241;43m.\u001b[39;49m\u001b[43mprocess_string\u001b[49m\u001b[43m(\u001b[49m\u001b[43mmenu\u001b[49m\u001b[43m[\u001b[49m\u001b[38;5;124;43mf\u001b[39;49m\u001b[38;5;124;43m'\u001b[39;49m\u001b[38;5;124;43mD27426\u001b[39;49m\u001b[38;5;124;43m'\u001b[39;49m\u001b[43m]\u001b[49m\u001b[38;5;241;43m.\u001b[39;49m\u001b[43mvalue\u001b[49m\u001b[43m)\u001b[49m)\n",
      "File \u001b[0;32m~/Desktop/Michael/General/Disney/functions.py:229\u001b[0m, in \u001b[0;36mprocess_string\u001b[0;34m(input_string)\u001b[0m\n\u001b[1;32m    226\u001b[0m   \u001b[38;5;28;01mreturn\u001b[39;00m \u001b[38;5;28;01mNone\u001b[39;00m\n\u001b[1;32m    228\u001b[0m \u001b[38;5;66;03m# Return the processed string\u001b[39;00m\n\u001b[0;32m--> 229\u001b[0m \u001b[38;5;28;01mreturn\u001b[39;00m \u001b[38;5;28;43mint\u001b[39;49m\u001b[43m(\u001b[49m\u001b[43mresult\u001b[49m\u001b[43m)\u001b[49m\n",
      "\u001b[0;31mValueError\u001b[0m: invalid literal for int() with base 10: '8.75-10.50-8.50-12.75'"
     ]
    }
   ],
   "source": [
    "print(dis.process_string(menu[f'D27426'].value))"
   ]
  },
  {
   "cell_type": "markdown",
   "metadata": {},
   "source": [
    "Draft - $8.75 - $10.50, Bottle/Can - $8.50 - $12.75"
   ]
  }
 ],
 "metadata": {
  "kernelspec": {
   "display_name": "Python 3",
   "language": "python",
   "name": "python3"
  },
  "language_info": {
   "codemirror_mode": {
    "name": "ipython",
    "version": 3
   },
   "file_extension": ".py",
   "mimetype": "text/x-python",
   "name": "python",
   "nbconvert_exporter": "python",
   "pygments_lexer": "ipython3",
   "version": "3.9.6"
  }
 },
 "nbformat": 4,
 "nbformat_minor": 2
}
