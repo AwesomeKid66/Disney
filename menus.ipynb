{
 "cells": [
  {
   "cell_type": "code",
   "execution_count": 3,
   "metadata": {},
   "outputs": [],
   "source": [
    "# import openpyxl module \n",
    "import openpyxl \n",
    "  \n",
    "# Give the location of the file \n",
    "path = \"/Users/mokrzesik/Desktop/Michael/General/Disney/05-01-2024 Disney Dining.xlsx\"\n",
    "\n",
    "# set the sheet names of the workbook\n",
    "sheet1 = 'Restaurant List'\n",
    "sheet2 = 'Menus'\n",
    "  \n",
    "# To open the workbook \n",
    "# workbook object is created \n",
    "wb = openpyxl.load_workbook(path) \n",
    "  \n",
    "# Get menu workbook\n",
    "# from the active attribute \n",
    "menu = wb.worksheets[1]"
   ]
  },
  {
   "cell_type": "code",
   "execution_count": 6,
   "metadata": {},
   "outputs": [
    {
     "name": "stdout",
     "output_type": "stream",
     "text": [
      "10.49\n"
     ]
    }
   ],
   "source": [
    "print(menu['B2'].value)"
   ]
  },
  {
   "cell_type": "code",
   "execution_count": 8,
   "metadata": {},
   "outputs": [],
   "source": [
    "menu['L1'] = None\n",
    "wb.save(path)"
   ]
  },
  {
   "cell_type": "code",
   "execution_count": null,
   "metadata": {},
   "outputs": [],
   "source": []
  }
 ],
 "metadata": {
  "kernelspec": {
   "display_name": "Python 3",
   "language": "python",
   "name": "python3"
  },
  "language_info": {
   "codemirror_mode": {
    "name": "ipython",
    "version": 3
   },
   "file_extension": ".py",
   "mimetype": "text/x-python",
   "name": "python",
   "nbconvert_exporter": "python",
   "pygments_lexer": "ipython3",
   "version": "3.9.6"
  }
 },
 "nbformat": 4,
 "nbformat_minor": 2
}
