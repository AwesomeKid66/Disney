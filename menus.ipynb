{
 "cells": [
  {
   "cell_type": "code",
   "execution_count": 43,
   "metadata": {},
   "outputs": [],
   "source": [
    "# import openpyxl module \n",
    "import openpyxl \n",
    "import re\n",
    "  \n",
    "# Give the location of the file \n",
    "path = \"/Users/mokrzesik/Desktop/Michael/General/Disney/05-01-2024 Disney Dining.xlsx\"\n",
    "\n",
    "# set the sheet names of the workbook\n",
    "sheet1 = 'Restaurant List'\n",
    "sheet2 = 'Menus'\n",
    "  \n",
    "# To open the workbook \n",
    "# workbook object is created \n",
    "wb = openpyxl.load_workbook(path) \n",
    "  \n",
    "# Get menu workbook\n",
    "# from the active attribute \n",
    "menu = wb.worksheets[1]"
   ]
  },
  {
   "cell_type": "code",
   "execution_count": 49,
   "metadata": {},
   "outputs": [],
   "source": [
    "decimal_pattern = re.compile(r'[-+]?\\d*\\.\\d+')\n",
    "dollar_sign = re.compile(r'\\$')\n",
    "market_price = re.compile(r'market price', re.IGNORECASE)\n",
    "\n",
    "def check_decimal_or_dollar(string1, string2):\n",
    "  if decimal_pattern.search(string) or dollar_sign.search(string):\n",
    "    return True\n",
    "  else:\n",
    "    return False"
   ]
  },
  {
   "cell_type": "code",
   "execution_count": 6,
   "metadata": {},
   "outputs": [
    {
     "name": "stdout",
     "output_type": "stream",
     "text": [
      "10.49\n"
     ]
    }
   ],
   "source": [
    "print(menu['B2'].value)"
   ]
  },
  {
   "cell_type": "code",
   "execution_count": 52,
   "metadata": {},
   "outputs": [
    {
     "name": "stdout",
     "output_type": "stream",
     "text": [
      "<re.Match object; span=(25, 37), match='Market Price'>\n"
     ]
    }
   ],
   "source": [
    "print(market_price.search(menu[f'A{184}'].value))"
   ]
  },
  {
   "cell_type": "code",
   "execution_count": 50,
   "metadata": {},
   "outputs": [
    {
     "ename": "SyntaxError",
     "evalue": "invalid syntax (1956757368.py, line 7)",
     "output_type": "error",
     "traceback": [
      "\u001b[0;36m  Cell \u001b[0;32mIn[50], line 7\u001b[0;36m\u001b[0m\n\u001b[0;31m    if check_decimal_or_dollar(menu[f'D{i+1}'].value).search or decimal_pattern.search(menu[f'D{i+1}'].value) or decimal_pattern.search(menu[f'D{i+1}'].value)\u001b[0m\n\u001b[0m                                                                                                                                                              ^\u001b[0m\n\u001b[0;31mSyntaxError\u001b[0m\u001b[0;31m:\u001b[0m invalid syntax\n"
     ]
    }
   ],
   "source": [
    "# loop through every row in the B column of menu\n",
    "for i, cell in enumerate(menu['B']):\n",
    "  # find if the cell is empty\n",
    "  if cell.value == None:\n",
    "\n",
    "    # if the cell is empty, check if the D column has a number\n",
    "    if check_decimal_or_dollar(menu[f'D{i+1}'].value) or check_decimal_or_dollar.search(menu[f'D{i+1}'].value) or check_decimal_or_dollar.search(menu[f'D{i+1}'].value)\n",
    "      or :\n",
    "      # if it does, then take the number and add it do the B column\n",
    "      print()\n",
    "    elif market_price.search(menu[f'A{184}'].value):\n",
    "      cell.value = 'Market Price'\n",
    "    elif \n",
    "    \n",
    "  "
   ]
  },
  {
   "cell_type": "code",
   "execution_count": null,
   "metadata": {},
   "outputs": [],
   "source": []
  }
 ],
 "metadata": {
  "kernelspec": {
   "display_name": "Python 3",
   "language": "python",
   "name": "python3"
  },
  "language_info": {
   "codemirror_mode": {
    "name": "ipython",
    "version": 3
   },
   "file_extension": ".py",
   "mimetype": "text/x-python",
   "name": "python",
   "nbconvert_exporter": "python",
   "pygments_lexer": "ipython3",
   "version": "3.9.6"
  }
 },
 "nbformat": 4,
 "nbformat_minor": 2
}
