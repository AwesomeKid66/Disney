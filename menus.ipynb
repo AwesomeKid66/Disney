{
 "cells": [
  {
   "cell_type": "code",
   "execution_count": 2,
   "metadata": {},
   "outputs": [],
   "source": [
    "import functions as dis"
   ]
  },
  {
   "cell_type": "code",
   "execution_count": 5,
   "metadata": {},
   "outputs": [],
   "source": [
    "# If you want to create a copy of the original sheet, then run prepare_excel_sheets() which will return the menu sheet\n",
    "# Since this is probably already done and in copy disney, then just run load_sheets() which will just return the menu and the new_wb\n",
    "\n",
    "menu, new_wb = dis.load_sheets(f'/Users/mokrzesik/Desktop/Michael/General/Disney/Copy_Disney_Dining.xlsx')"
   ]
  },
  {
   "cell_type": "code",
   "execution_count": 8,
   "metadata": {},
   "outputs": [],
   "source": [
    "def doItAll(menu, new_wb) -> None:\n",
    "  increase_counter = 0\n",
    "  for i, (cellA, cellD, cellJ) in enumerate(zip(menu['A'], menu['D'], menu['J'])):\n",
    "    i += increase_counter\n",
    "    if menu[f'B{i+1}'].value is not None:\n",
    "      continue\n",
    "    if dis.value_check(cellA.value):\n",
    "      result = dis.process_string(cellA.value)\n",
    "      if result.count('-') > 1 or len(result) > 11 or result is None or len(result) == 0:\n",
    "        result = dis.user_Input(menu, i)\n",
    "      elif dis.market_price.search(cellA.value):\n",
    "        result = 'Market Price'\n",
    "      menu[f'B{i+1}'] = result\n",
    "      menu[f'L{i+1}'] = f'Mod: A'\n",
    "    if dis.value_check(cellD.value):\n",
    "      result = dis.process_string(cellD.value)\n",
    "      if result.count('-') > 1 or len(result) > 11 or result is None or len(result) == 0:\n",
    "        result = dis.user_Input(menu, i)\n",
    "      elif dis.market_price.search(cellD.value):\n",
    "        result = 'Market Price'\n",
    "      menu[f'B{i+1}'] = result\n",
    "      menu[f'L{i+1}'] = f'Mod: D'\n",
    "    if dis.value_check(cellJ.value):\n",
    "      result = dis.process_string(cellJ.value)\n",
    "      if isinstance(result, list):\n",
    "        # if it is a list then result will have the price of glass first and price of bottle second\n",
    "        dis.glass_bottle_row_duplicate(menu, i, cellA.value, result)\n",
    "        increase_counter += 1\n",
    "        continue\n",
    "      elif result.count('-') > 1 or len(result) > 11 or result is None or len(result) == 0:\n",
    "        result = dis.user_Input(menu, i)\n",
    "      menu[f'B{i+1}'] = result\n",
    "      menu[f'L{i+1}'] = f'Mod: J'\n",
    "\n",
    "  # create a string for the title of the new menu\n",
    "  new_menu = input(f'What would you like to name the new sheet? ')\n",
    "\n",
    "  # Save the file\n",
    "  new_wb.save(new_menu + f'.xlsx')"
   ]
  },
  {
   "cell_type": "code",
   "execution_count": 9,
   "metadata": {},
   "outputs": [],
   "source": [
    "doItAll(menu, new_wb)"
   ]
  },
  {
   "cell_type": "code",
   "execution_count": null,
   "metadata": {},
   "outputs": [],
   "source": []
  }
 ],
 "metadata": {
  "kernelspec": {
   "display_name": "Python 3",
   "language": "python",
   "name": "python3"
  },
  "language_info": {
   "codemirror_mode": {
    "name": "ipython",
    "version": 3
   },
   "file_extension": ".py",
   "mimetype": "text/x-python",
   "name": "python",
   "nbconvert_exporter": "python",
   "pygments_lexer": "ipython3",
   "version": "3.9.6"
  }
 },
 "nbformat": 4,
 "nbformat_minor": 2
}
