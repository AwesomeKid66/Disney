{
 "cells": [
  {
   "cell_type": "markdown",
   "metadata": {},
   "source": [
    "This is a testing page with generic functions for testing"
   ]
  },
  {
   "cell_type": "code",
   "execution_count": 4,
   "metadata": {},
   "outputs": [],
   "source": [
    "import functions as dis\n",
    "import re\n",
    "\n",
    "def print_process(menu, location) -> None:\n",
    "  print(dis.process_string(menu[location].value))\n",
    "\n",
    "# If you want to create a copy of the original sheet, then run prepare_excel_sheets() which will return the menu sheet\n",
    "# Since this is probably already done and in copy disney, then just run load_sheets() which will just return the menu and the new_wb\n",
    "\n",
    "menu, _ = dis.load_sheets(f'/Users/mokrzesik/Desktop/Coding/Disney/Copy_Disney_Dining.xlsx')"
   ]
  },
  {
   "cell_type": "code",
   "execution_count": 17,
   "metadata": {},
   "outputs": [
    {
     "name": "stdout",
     "output_type": "stream",
     "text": [
      "Gluten-Free Dough - 3.00 | High-rise Dough - 3.50 | Cauliflower Crust - 4.00\n",
      "None\n"
     ]
    }
   ],
   "source": [
    "# this was to check for 'Gluten-Free Dough - $3.00 | High-rise Dough - $3.50 | Cauliflower Crust - $4.00' string, but those are all add-ons, \n",
    "# and I am not sure how to handle add-ons yet, so I will just leave it as.\n",
    "\n",
    "string = re.search(r'Gluten-Free Dough - \\d+.?\\d+\\s+\\|\\s+High-rise Dough - \\d+.?\\d+\\s+\\|\\s+Cauliflower Crust - \\d+.?\\d+', 'Gluten-Free Dough - 3.00 | High-rise Dough - 3.50 | Cauliflower Crust - 4.00')\n",
    "print(string.group())\n",
    "\n",
    "site = f'J2775'\n",
    "print_process(menu, site)"
   ]
  },
  {
   "cell_type": "markdown",
   "metadata": {},
   "source": [
    "J2775 - Gluten-Free Dough - $3.00 | High-rise Dough - $3.50 | Cauliflower Crust - $4.00\n",
    "\n",
    "A40122 - A40125\n",
    "\n",
    "Build Your Own Pizza (21 | 36 | 48)\n",
    "Classic Toppings (4.5 | 6 | 7 each)\n",
    "Specialty Toppings (5 | 7 | 8.5 each)\n",
    "Prosciutto (7 | 9 | 11 each)"
   ]
  },
  {
   "cell_type": "markdown",
   "metadata": {},
   "source": []
  }
 ],
 "metadata": {
  "kernelspec": {
   "display_name": "Python 3",
   "language": "python",
   "name": "python3"
  },
  "language_info": {
   "codemirror_mode": {
    "name": "ipython",
    "version": 3
   },
   "file_extension": ".py",
   "mimetype": "text/x-python",
   "name": "python",
   "nbconvert_exporter": "python",
   "pygments_lexer": "ipython3",
   "version": "3.9.6"
  }
 },
 "nbformat": 4,
 "nbformat_minor": 2
}
